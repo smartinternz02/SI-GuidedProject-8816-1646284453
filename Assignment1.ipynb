{
 "cells": [
  {
   "cell_type": "markdown",
   "id": "f773f085",
   "metadata": {},
   "source": [
    "# Question1"
   ]
  },
  {
   "cell_type": "code",
   "execution_count": 1,
   "id": "e1ae8e09",
   "metadata": {},
   "outputs": [
    {
     "data": {
      "text/plain": [
       "2401"
      ]
     },
     "execution_count": 1,
     "metadata": {},
     "output_type": "execute_result"
    }
   ],
   "source": [
    "a=7**4\n",
    "a"
   ]
  },
  {
   "cell_type": "markdown",
   "id": "84da34f0",
   "metadata": {},
   "source": [
    "# Question2"
   ]
  },
  {
   "cell_type": "code",
   "execution_count": 2,
   "id": "25e60dfb",
   "metadata": {},
   "outputs": [
    {
     "name": "stdout",
     "output_type": "stream",
     "text": [
      "['Hi', 'there', 'Sam!']\n"
     ]
    }
   ],
   "source": [
    "s=\"Hi there Sam!\"\n",
    "l=s.split()\n",
    "print(l)"
   ]
  },
  {
   "cell_type": "markdown",
   "id": "00f05956",
   "metadata": {},
   "source": [
    "# Question3"
   ]
  },
  {
   "cell_type": "code",
   "execution_count": 4,
   "id": "137c3a23",
   "metadata": {},
   "outputs": [
    {
     "name": "stdout",
     "output_type": "stream",
     "text": [
      "the diameter of the Earth is 12742\n"
     ]
    }
   ],
   "source": [
    "print(\"the diameter of the {planet} is {diameter}\".format(planet =\"Earth\",diameter = 12742))\n"
   ]
  },
  {
   "cell_type": "markdown",
   "id": "c5de8700",
   "metadata": {},
   "source": [
    "# Question4"
   ]
  },
  {
   "cell_type": "code",
   "execution_count": 16,
   "id": "e3f2bd95",
   "metadata": {},
   "outputs": [
    {
     "name": "stdout",
     "output_type": "stream",
     "text": [
      "['hello']\n"
     ]
    }
   ],
   "source": [
    "l = [1,2,[3,4],[5,[100,200,[\"hello\"]],23,11],1,7]\n",
    "print(l[3][1][2])"
   ]
  },
  {
   "cell_type": "markdown",
   "id": "f939e4e7",
   "metadata": {},
   "source": [
    "# Question5"
   ]
  },
  {
   "cell_type": "code",
   "execution_count": 18,
   "id": "dbc6905d",
   "metadata": {},
   "outputs": [
    {
     "data": {
      "text/plain": [
       "'hello'"
      ]
     },
     "execution_count": 18,
     "metadata": {},
     "output_type": "execute_result"
    }
   ],
   "source": [
    "d={'k1':[1,2,3,{'tricky':['oh','man','inception',{'target':[1,2,3,'hello']}]}]}\n",
    "d['k1'][3]['tricky'][3]['target'][3]"
   ]
  },
  {
   "cell_type": "markdown",
   "id": "367f17fa",
   "metadata": {},
   "source": [
    "# Question6"
   ]
  },
  {
   "cell_type": "code",
   "execution_count": 20,
   "id": "b94685d5",
   "metadata": {},
   "outputs": [],
   "source": [
    "Tuple is immutable ,and these are more memory efficient when compared to lists\n",
    "Lists are mutable "
   ]
  },
  {
   "cell_type": "markdown",
   "id": "1b4d7ba2",
   "metadata": {},
   "source": [
    "# Question7"
   ]
  },
  {
   "cell_type": "code",
   "execution_count": 33,
   "id": "62918bf3",
   "metadata": {},
   "outputs": [
    {
     "name": "stdout",
     "output_type": "stream",
     "text": [
      "domain.com\n"
     ]
    }
   ],
   "source": [
    "def user(s):\n",
    "    r = s.find('@')\n",
    "    return(s[r+1:])\n",
    "\n",
    "s=\"vamsi@domain.com\"\n",
    "if  __name__ == \"__main__\":\n",
    "    print(user(s))"
   ]
  },
  {
   "cell_type": "markdown",
   "id": "8eabf8d3",
   "metadata": {},
   "source": [
    "# Question8"
   ]
  },
  {
   "cell_type": "code",
   "execution_count": 45,
   "id": "8d09eb76",
   "metadata": {},
   "outputs": [
    {
     "name": "stdout",
     "output_type": "stream",
     "text": [
      "True\n"
     ]
    }
   ],
   "source": [
    "def isdog(s):\n",
    "    if \"dog\" in s:\n",
    "        return True\n",
    "    else:\n",
    "        return False\n",
    "s=\"this is her dog\"\n",
    "if __name__ == \"__main__\":\n",
    "    print(isdog(s))"
   ]
  },
  {
   "cell_type": "markdown",
   "id": "918ac6f2",
   "metadata": {},
   "source": [
    "# Question9"
   ]
  },
  {
   "cell_type": "code",
   "execution_count": 53,
   "id": "533dae45",
   "metadata": {},
   "outputs": [
    {
     "name": "stdout",
     "output_type": "stream",
     "text": [
      "soup\n",
      "salad\n"
     ]
    }
   ],
   "source": [
    "def fil(s):\n",
    "    if(s[0]==\"s\"):\n",
    "        return True\n",
    "    return False\n",
    "seq = [\"soup\",\"dog\",\"salad\",\"cat\",\"great\"]\n",
    "filtered = filter(fil,seq)\n",
    "for s in filtered:\n",
    "        print(s)"
   ]
  },
  {
   "cell_type": "markdown",
   "id": "685fa140",
   "metadata": {},
   "source": [
    "# Question10"
   ]
  },
  {
   "cell_type": "code",
   "execution_count": 69,
   "id": "6129a196",
   "metadata": {},
   "outputs": [
    {
     "name": "stdout",
     "output_type": "stream",
     "text": [
      "83\n",
      "True\n",
      "Small Ticket\n"
     ]
    }
   ],
   "source": [
    "def speed(s,l):\n",
    "    if(l):\n",
    "        if s-5<=60:\n",
    "            return \"No Ticket\"\n",
    "        elif s-5>60 and s-5<80:\n",
    "            return \"Small Ticket\"\n",
    "        else:\n",
    "            return \"Big Ticket\"\n",
    "    else:\n",
    "        if s<=60:\n",
    "            return \"No Ticket\"\n",
    "        elif s>60 and s<80:\n",
    "            return \"Small Ticket\"\n",
    "        else:\n",
    "            return \"Big Ticket\"\n",
    "n=int(input())\n",
    "if __name__ == \"__main__\":\n",
    "    print(speed(n,input()))"
   ]
  },
  {
   "cell_type": "code",
   "execution_count": null,
   "id": "0777963d",
   "metadata": {},
   "outputs": [],
   "source": []
  },
  {
   "cell_type": "code",
   "execution_count": null,
   "id": "300ab530",
   "metadata": {},
   "outputs": [],
   "source": []
  }
 ],
 "metadata": {
  "kernelspec": {
   "display_name": "Python 3 (ipykernel)",
   "language": "python",
   "name": "python3"
  },
  "language_info": {
   "codemirror_mode": {
    "name": "ipython",
    "version": 3
   },
   "file_extension": ".py",
   "mimetype": "text/x-python",
   "name": "python",
   "nbconvert_exporter": "python",
   "pygments_lexer": "ipython3",
   "version": "3.9.7"
  }
 },
 "nbformat": 4,
 "nbformat_minor": 5
}
